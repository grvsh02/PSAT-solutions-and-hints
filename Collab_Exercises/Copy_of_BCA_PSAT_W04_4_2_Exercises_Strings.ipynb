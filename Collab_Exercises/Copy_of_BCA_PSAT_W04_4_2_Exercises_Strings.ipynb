{
  "nbformat": 4,
  "nbformat_minor": 0,
  "metadata": {
    "colab": {
      "name": "Copy of BCA_PSAT_W04_4.2_Exercises_Strings.ipynb",
      "provenance": [],
      "collapsed_sections": []
    },
    "kernelspec": {
      "name": "python3",
      "display_name": "Python 3"
    }
  },
  "cells": [
    {
      "cell_type": "markdown",
      "metadata": {
        "id": "jggy_UtPuiLW"
      },
      "source": [
        "<br>\n",
        "&nbsp; <img src=\"https://www.amrita.edu/ahead/images/aheadlogosticky.svg\" alt=\"AMRITA AHEAD\" width=\"250\"> \n",
        "<table align=\"right\">\n",
        "  <td align=\"left\"><a href=\"https://colab.research.google.com/drive/1jZQ2k4t_jO-DF4ekyHkLAelEe5KoDwzI\">Prev: Strings in Python</a></td>\n",
        "  <td align=\"right\"><a href=\"https://colab.research.google.com/drive/1W3LjjmJj0kTjBUDx62PyUNFmJsMTjcfz\">Next: String built-in functions</a></td>\n",
        "</table>\n",
        "\n",
        "# **Week 4 - Lab 4.2 - Simple Exercises on Strings**\n",
        "\n",
        "For all the exercises mentioned below, write your program in the code segment just below the problem statement. Your program should print \"YES\" if the check succeeds (i.e. acceptable strings) and print \"NO\" otherwise."
      ]
    },
    {
      "cell_type": "markdown",
      "metadata": {
        "id": "d-87D5SiKVa8"
      },
      "source": [
        "\n",
        "1. Write a program that checks if the input string starts with char 'a'.<br>Accept a, amrita, ahead, algorithmic. Reject problem, solving, thinking."
      ]
    },
    {
      "cell_type": "code",
      "metadata": {
        "id": "AQGk6dznhViy",
        "colab": {
          "base_uri": "https://localhost:8080/"
        },
        "outputId": "31932b56-2b1e-4096-da46-4898ef6eb8f2"
      },
      "source": [
        "text = input()\n",
        "if text[0] == 'a' :\n",
        "  print('YES')\n",
        "else :\n",
        "  print('NO')"
      ],
      "execution_count": null,
      "outputs": [
        {
          "output_type": "stream",
          "text": [
            "amrita\n",
            "YES\n"
          ],
          "name": "stdout"
        }
      ]
    },
    {
      "cell_type": "markdown",
      "metadata": {
        "id": "J5mebn_KJ3uy"
      },
      "source": [
        "2. Write a program that checks if the input string starts and ends with the same char.<br>Accept amrita, xerox. Reject ahead, loop."
      ]
    },
    {
      "cell_type": "code",
      "metadata": {
        "id": "3nMRVuKmhW1K",
        "colab": {
          "base_uri": "https://localhost:8080/"
        },
        "outputId": "f0f0869a-6024-409d-a726-ebdd1a76930d"
      },
      "source": [
        "s = input()\n",
        "if s[0] == s[-1]:\n",
        "  print(\"Yes\")\n",
        "else:\n",
        "  print(\"No\")"
      ],
      "execution_count": null,
      "outputs": [
        {
          "output_type": "stream",
          "name": "stdout",
          "text": [
            "amrita\n",
            "Yes\n"
          ]
        }
      ]
    },
    {
      "cell_type": "markdown",
      "metadata": {
        "id": "6KMz2seGJ0LK"
      },
      "source": [
        "3. Write a program that checks if the input string does not end with the same char it starts with.<br>Accept ahead, loop. Reject amrita, xerox."
      ]
    },
    {
      "cell_type": "code",
      "metadata": {
        "id": "RUD0t6sGhX4I",
        "colab": {
          "base_uri": "https://localhost:8080/"
        },
        "outputId": "77bd34c8-7ce3-4c04-885e-124fad4d1949"
      },
      "source": [
        "s = input()\n",
        "if s[0] == s[-1]:\n",
        "  print(\"No\")\n",
        "else:\n",
        "  print(\"Yes\")"
      ],
      "execution_count": null,
      "outputs": [
        {
          "output_type": "stream",
          "name": "stdout",
          "text": [
            "amrita\n",
            "No\n"
          ]
        }
      ]
    },
    {
      "cell_type": "markdown",
      "metadata": {
        "id": "BVXw_OpwJw5a"
      },
      "source": [
        "4. Write a program that checks if the input string contains at least one 'a'.<br>Accept amrita, ahead, algorithm, xyza. Reject problem, thinking."
      ]
    },
    {
      "cell_type": "code",
      "metadata": {
        "id": "b0U4vowxhZL4",
        "colab": {
          "base_uri": "https://localhost:8080/"
        },
        "outputId": "a08b63ea-d4e1-47ff-e4dd-f4d4e62c1c89"
      },
      "source": [
        "s = input()\n",
        "n = s.count(\"a\")\n",
        "if n > 0:\n",
        "  print(\"Yes\")\n",
        "else:\n",
        "  print(\"No\")"
      ],
      "execution_count": null,
      "outputs": [
        {
          "output_type": "stream",
          "name": "stdout",
          "text": [
            "problem\n",
            "No\n"
          ]
        }
      ]
    },
    {
      "cell_type": "markdown",
      "metadata": {
        "id": "wX_yhZMzJtMk"
      },
      "source": [
        "5. Write a program that checks if the input string contains exactly one a.<br>Accept algorithm, iteration. Reject amrita, ahead, problem."
      ]
    },
    {
      "cell_type": "code",
      "metadata": {
        "id": "ZiSjacDkhaGx"
      },
      "source": [
        "s = input()\n",
        "n = s.count(\"a\")\n",
        "if n > 0:\n",
        "  print(\"Yes\")\n",
        "else:\n",
        "  print(\"No\")"
      ],
      "execution_count": null,
      "outputs": []
    },
    {
      "cell_type": "markdown",
      "metadata": {
        "id": "I5pn3SrMJpkq"
      },
      "source": [
        "6. Write a program that checks if the input string contains two consecutive e's.<br>Accept engineer, evergreen. Reject amrita, ahead, center."
      ]
    },
    {
      "cell_type": "code",
      "metadata": {
        "id": "J6aHc52Tha2w",
        "colab": {
          "base_uri": "https://localhost:8080/"
        },
        "outputId": "c268864c-0f81-4815-af7c-09eac1b777cd"
      },
      "source": [
        "s = input()\n",
        "if \"ee\" in s:\n",
        "  print(\"Yes\")\n",
        "else:\n",
        "  print(\"No\")"
      ],
      "execution_count": null,
      "outputs": [
        {
          "output_type": "stream",
          "name": "stdout",
          "text": [
            "evergreen\n",
            "Yes\n"
          ]
        }
      ]
    },
    {
      "cell_type": "markdown",
      "metadata": {
        "id": "OUYeRZ-iJmLa"
      },
      "source": [
        "7. Write a program that checks if the input string does not contain two consecutive e's.<br>Accept amrita, ahead, center. Reject see, meet. "
      ]
    },
    {
      "cell_type": "code",
      "metadata": {
        "colab": {
          "base_uri": "https://localhost:8080/"
        },
        "id": "9cPKGBxzQgkx",
        "outputId": "f068d926-de78-474e-e47a-116e47611409"
      },
      "source": [
        "s = input()\n",
        "if \"ee\" in s:\n",
        "  print(\"No\")\n",
        "else:\n",
        "  print(\"Yes\")"
      ],
      "execution_count": null,
      "outputs": [
        {
          "output_type": "stream",
          "name": "stdout",
          "text": [
            "see\n",
            "No\n"
          ]
        }
      ]
    },
    {
      "cell_type": "markdown",
      "metadata": {
        "id": "5dhfqsDcJijD"
      },
      "source": [
        "8. Write a program that checks if the input string contains at most two e's.<br>Accept amrita, ahead, center, green. Reject evergreen, ensemble."
      ]
    },
    {
      "cell_type": "code",
      "metadata": {
        "id": "rAI19HSUhcUA",
        "colab": {
          "base_uri": "https://localhost:8080/"
        },
        "outputId": "5c455f94-f54f-4943-8872-971ab62e43f0"
      },
      "source": [
        "s = input()\n",
        "if s.count(\"e\") < 3:\n",
        "  print(\"Yes\")\n",
        "else :\n",
        "  print(\"No\")"
      ],
      "execution_count": null,
      "outputs": [
        {
          "output_type": "stream",
          "name": "stdout",
          "text": [
            "green\n",
            "Yes\n"
          ]
        }
      ]
    },
    {
      "cell_type": "markdown",
      "metadata": {
        "id": "GFIvH_gyJb_s"
      },
      "source": [
        "9. Write a program that checks if the input string contains two u's and three b's.<br>Accept ububb, bubblegum. Reject umbrella, bubble, gum"
      ]
    },
    {
      "cell_type": "code",
      "metadata": {
        "id": "LzUxNjI2hdnR",
        "colab": {
          "base_uri": "https://localhost:8080/"
        },
        "outputId": "5cd5b502-5433-4e32-c6be-8f3fcc60b817"
      },
      "source": [
        "s = input()\n",
        "if s.count(\"u\") == 2 and s.count(\"b\") == 3:\n",
        "  print(\"Yes\")\n",
        "else :\n",
        "  print(\"No\")"
      ],
      "execution_count": null,
      "outputs": [
        {
          "output_type": "stream",
          "name": "stdout",
          "text": [
            "ububb\n",
            "Yes\n"
          ]
        }
      ]
    },
    {
      "cell_type": "markdown",
      "metadata": {
        "id": "LPPk95QQJYQ6"
      },
      "source": [
        "10. Write a program that checks if the input string contains even number of e's.<br>Accept center, evergreen. Reject amrita, ahead, engineer."
      ]
    },
    {
      "cell_type": "code",
      "metadata": {
        "id": "ZI9BWUn6hedg"
      },
      "source": [
        "s = input()\n",
        "if s.count(\"e\") % 2 == 0:\n",
        "  print(\"Yes\")\n",
        "else :\n",
        "  print(\"No\")"
      ],
      "execution_count": null,
      "outputs": []
    },
    {
      "cell_type": "markdown",
      "metadata": {
        "id": "GtJXT4DSJUt7"
      },
      "source": [
        "11. Write a program that checks if every e in the input string is followed by two s's.<br>Accept success, less, esspresso. Reject ahead, express."
      ]
    },
    {
      "cell_type": "code",
      "metadata": {
        "id": "pAYjGrg0hfHB",
        "colab": {
          "base_uri": "https://localhost:8080/"
        },
        "outputId": "19c4b54a-1dab-46bc-d23d-32743f2abd03"
      },
      "source": [
        "s = input()\n",
        "for i in range(len(s) - 2):\n",
        "  if s[i] == \"e\":\n",
        "    if s[i + 1] == \"s\" and s[i + 2] == \"s\":\n",
        "      pass\n",
        "    else:\n",
        "      print(\"No\")\n",
        "      break\n",
        "else:\n",
        "  print(\"Yes\") "
      ],
      "execution_count": null,
      "outputs": [
        {
          "output_type": "stream",
          "name": "stdout",
          "text": [
            "success\n",
            "s u c\n",
            "u c c\n",
            "c c e\n",
            "c e s\n",
            "e s s\n",
            "Yes\n"
          ]
        }
      ]
    },
    {
      "cell_type": "markdown",
      "metadata": {
        "id": "iJRlbp8gJQxD"
      },
      "source": [
        "12. Write a program that checks if every e in the input string is preceded by two cc's.<br>Accept success. Reject excess."
      ]
    },
    {
      "cell_type": "code",
      "metadata": {
        "id": "RPYEY1bphf2y",
        "colab": {
          "base_uri": "https://localhost:8080/"
        },
        "outputId": "7aac4672-8659-434d-8f7d-99bf9758cb76"
      },
      "source": [
        "s = input()\n",
        "for i in range(len(s) - 2):\n",
        "  if s[i] == \"c\" and s[i+1] == \"c\":\n",
        "    if s[i+2] == \"e\":\n",
        "      pass\n",
        "    else:\n",
        "      print(\"No\")\n",
        "      break\n",
        "else:\n",
        "  print(\"Yes\") "
      ],
      "execution_count": null,
      "outputs": [
        {
          "output_type": "stream",
          "name": "stdout",
          "text": [
            "success\n",
            "Yes\n"
          ]
        }
      ]
    },
    {
      "cell_type": "markdown",
      "metadata": {
        "id": "JcMvp5yxJMy7"
      },
      "source": [
        "13. Write a program that checks if every a in the input string is preceded by two b's and followed by three c's.<br>Accept bbaccc, xbbacccyzbbaccc. Reject bxbaccc, bbacc, baccc."
      ]
    },
    {
      "cell_type": "code",
      "metadata": {
        "id": "x2NLdJbfhgkj",
        "colab": {
          "base_uri": "https://localhost:8080/"
        },
        "outputId": "6dd4995f-0e54-4c6e-830a-5ca89d593531"
      },
      "source": [
        "s = input()\n",
        "for i in range(2,len(s) - 3):\n",
        "  if s[i] == \"a\":\n",
        "    if s[i - 2] == \"b\" and s[i - 1] == \"b\" and s[i + 1] == \"c\" and s[i + 2] == \"c\" and s[i + 3] == \"c\":\n",
        "      pass\n",
        "    else:\n",
        "      print(\"No\")\n",
        "      break\n",
        "else:\n",
        "  print(\"Yes\") "
      ],
      "execution_count": null,
      "outputs": [
        {
          "output_type": "stream",
          "name": "stdout",
          "text": [
            "xbbacccyzbbaccc\n",
            "Yes\n"
          ]
        }
      ]
    },
    {
      "cell_type": "markdown",
      "metadata": {
        "id": "qGhf1Zx_JJAD"
      },
      "source": [
        "14. Write a program that checks if the input string of even length is a palindrome.<br>Accept amma, malayyalam. Reject ahead, malayalam."
      ]
    },
    {
      "cell_type": "code",
      "metadata": {
        "id": "7uDXV8NehhUB",
        "colab": {
          "base_uri": "https://localhost:8080/"
        },
        "outputId": "1a473149-3afe-49ef-a7e0-797eea2bd9ea"
      },
      "source": [
        "s = input()\n",
        "\n",
        "for i in range(len(s)//2):\n",
        "  if s[i] != s[-i -1]:\n",
        "    print(\"No\")\n",
        "    break\n",
        "else:\n",
        "  print(\"Yes\")"
      ],
      "execution_count": null,
      "outputs": [
        {
          "output_type": "stream",
          "name": "stdout",
          "text": [
            "malayyalam\n",
            "Yes\n"
          ]
        }
      ]
    },
    {
      "cell_type": "markdown",
      "metadata": {
        "id": "Ik56e8T-I6yR"
      },
      "source": [
        "15. Write a program that checks if the input string is a palindrome.<br>Accept amma, malayalam, redivider. Reject ahead."
      ]
    },
    {
      "cell_type": "code",
      "metadata": {
        "id": "U4fS1sebhiFJ"
      },
      "source": [
        "s = input()\n",
        "\n",
        "for i in range(len(s)//2):\n",
        "  if s[i] != s[-i -1]:\n",
        "    print(\"No\")\n",
        "    break\n",
        "else:\n",
        "  print(\"Yes\")"
      ],
      "execution_count": null,
      "outputs": []
    },
    {
      "cell_type": "markdown",
      "metadata": {
        "id": "-aamQxi2I04l"
      },
      "source": [
        "\n",
        "16. Write a program that counts and prints the number of vowels in the input string.<br>europe --> 4, amrita --> 3."
      ]
    },
    {
      "cell_type": "code",
      "metadata": {
        "id": "lKVdMQxmhiq5",
        "colab": {
          "base_uri": "https://localhost:8080/"
        },
        "outputId": "38c82035-d250-4db4-e220-b7b4f1a50875"
      },
      "source": [
        "s = input()\n",
        "vowel = [\"a\",\"e\",\"i\",\"o\",\"u\"]\n",
        "count = 0\n",
        "for i in s:\n",
        "  if i in vowel:\n",
        "    count = count + 1\n",
        "print(count)"
      ],
      "execution_count": null,
      "outputs": [
        {
          "output_type": "stream",
          "name": "stdout",
          "text": [
            "europe\n",
            "4\n"
          ]
        }
      ]
    },
    {
      "cell_type": "markdown",
      "metadata": {
        "id": "Y7I7vIItIwvs"
      },
      "source": [
        "17. Write a program that checks if the number of a's in the input string is equal to the number of b's.<br>Accept aaabbb, ababab, abcabcabc. Reject abacab, ahead."
      ]
    },
    {
      "cell_type": "code",
      "metadata": {
        "id": "vdqpeAPahjdx",
        "colab": {
          "base_uri": "https://localhost:8080/"
        },
        "outputId": "836be2d1-58d8-43bd-87ab-9fe99aba339c"
      },
      "source": [
        "s = input()\n",
        "if s.count(\"a\") == s.count(\"b\"):\n",
        "  print(\"Yes\")\n",
        "else:\n",
        "  print(\"No\")"
      ],
      "execution_count": null,
      "outputs": [
        {
          "output_type": "stream",
          "name": "stdout",
          "text": [
            "ababab\n",
            "Yes\n"
          ]
        }
      ]
    },
    {
      "cell_type": "markdown",
      "metadata": {
        "id": "m7Ldyt5EIjVp"
      },
      "source": [
        "18. Write a program that checks (i) if the input string length is even, it should contain exactly two vowels (ii) if length is odd, it should contain odd number of vowels.<br>Accept team, tiktok, ahead. Reject amrita, online, graduate."
      ]
    },
    {
      "cell_type": "code",
      "metadata": {
        "id": "xIuSO7L99TfH"
      },
      "source": [
        ""
      ],
      "execution_count": null,
      "outputs": []
    },
    {
      "cell_type": "code",
      "metadata": {
        "id": "gWkXvaOMhkPz",
        "colab": {
          "base_uri": "https://localhost:8080/"
        },
        "outputId": "9d129667-100d-4431-eca0-6b2c35990cbb"
      },
      "source": [
        "s = input()\n",
        "vowel = [\"a\",\"e\",\"i\",\"o\",\"u\"]\n",
        "\n",
        "def count_vowel(string):\n",
        "  vowel = [\"a\",\"e\",\"i\",\"o\",\"u\"]\n",
        "  count = 0\n",
        "  for i in string:\n",
        "    if i in vowel:\n",
        "      count = count + 1\n",
        "  return count\n",
        "\n",
        "if len(s) % 2 == 0:\n",
        "  if count_vowel(s) == 2:\n",
        "    print(\"Accepted in even \")\n",
        "  else :\n",
        "    print(\"Rejected in even\")\n",
        "else :\n",
        "  if count_vowel(s) % 2 != 0:\n",
        "    print(\"Accepted in odd\")\n",
        "  else :\n",
        "    print(\"Rejected in odd\")"
      ],
      "execution_count": null,
      "outputs": [
        {
          "output_type": "stream",
          "name": "stdout",
          "text": [
            "ahead\n",
            "Accepted in odd\n"
          ]
        }
      ]
    },
    {
      "cell_type": "markdown",
      "metadata": {
        "id": "W0_TUVOCIfB7"
      },
      "source": [
        "19. Write a program that checks if two input strings are same.<br> Accept [amrita,amrita], [ahead,ahead]. Reject [amrita,ahead]."
      ]
    },
    {
      "cell_type": "code",
      "metadata": {
        "id": "jOhNu0M9hlSi"
      },
      "source": [
        "s1 = input()\n",
        "s2 = input()\n",
        "if s1 = s2:\n",
        "  print(\"Yes\")\n",
        "else:\n",
        "  print(\"No\")"
      ],
      "execution_count": null,
      "outputs": []
    },
    {
      "cell_type": "markdown",
      "metadata": {
        "id": "hDaDuEgWIGYV"
      },
      "source": [
        "20. Write a program that checks if two input strings are anagrams.<br>Accept [trace,react], [dealer,leader]. Reject [amrita,ahead]"
      ]
    },
    {
      "cell_type": "code",
      "metadata": {
        "id": "3w3618F4hmrR",
        "colab": {
          "base_uri": "https://localhost:8080/"
        },
        "outputId": "97ae2d0a-53bc-4747-ca2f-5fa71cb3a42e"
      },
      "source": [
        "s1 = input()\n",
        "s2 = input()\n",
        "if len(s1) == len(s2):\n",
        "  for i in s1:\n",
        "    if i not in s2 :\n",
        "      print(\"No\")\n",
        "      break\n",
        "  else :\n",
        "    print(\"Yes\")\n",
        "else :\n",
        "  print(\"Nore\")"
      ],
      "execution_count": null,
      "outputs": [
        {
          "output_type": "stream",
          "name": "stdout",
          "text": [
            "trace\n",
            "react\n",
            "Yes\n"
          ]
        }
      ]
    }
  ]
}